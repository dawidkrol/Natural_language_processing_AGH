{
  "cells": [
    {
      "cell_type": "markdown",
      "metadata": {
        "id": "view-in-github",
        "colab_type": "text"
      },
      "source": [
        "<a href=\"https://colab.research.google.com/github/dawidkrol/Natural_language_processing_AGH/blob/main/Natural_language_processing_AGH_UST.ipynb\" target=\"_parent\"><img src=\"https://colab.research.google.com/assets/colab-badge.svg\" alt=\"Open In Colab\"/></a>"
      ]
    },
    {
      "cell_type": "markdown",
      "metadata": {
        "id": "5mBReNydxumi"
      },
      "source": [
        "# Imports"
      ]
    },
    {
      "cell_type": "code",
      "execution_count": null,
      "metadata": {
        "colab": {
          "base_uri": "https://localhost:8080/"
        },
        "id": "muUz7V4PoT87",
        "outputId": "8bb3380a-c02c-4685-f820-99d45e5ce57d"
      },
      "outputs": [
        {
          "output_type": "stream",
          "name": "stderr",
          "text": [
            "[nltk_data] Downloading package punkt to /root/nltk_data...\n",
            "[nltk_data]   Unzipping tokenizers/punkt.zip.\n",
            "[nltk_data] Downloading package stopwords to /root/nltk_data...\n",
            "[nltk_data]   Unzipping corpora/stopwords.zip.\n"
          ]
        }
      ],
      "source": [
        "import nltk\n",
        "from nltk import word_tokenize, sent_tokenize\n",
        "from nltk.corpus import stopwords\n",
        "from nltk.stem.porter import *\n",
        "from nltk.probability import FreqDist\n",
        "from nltk import ngrams\n",
        "\n",
        "nltk.download('punkt')\n",
        "nltk.download('stopwords')\n",
        "\n",
        "import string\n",
        "\n",
        "import gensim\n",
        "from gensim.models.phrases import Phraser, Phrases\n",
        "from gensim.models.word2vec import Word2Vec\n",
        "\n",
        "from sklearn.manifold import TSNE\n",
        "\n",
        "import pandas as pd\n",
        "from bokeh.io import output_notebook, output_file\n",
        "from bokeh.plotting import show, figure\n",
        "%matplotlib inline\n",
        "\n",
        "import urllib\n",
        "\n",
        "from nltk.corpus import gutenberg\n",
        "from collections import defaultdict"
      ]
    },
    {
      "cell_type": "markdown",
      "metadata": {
        "id": "s40K3SnDeuco"
      },
      "source": [
        "# Methods"
      ]
    },
    {
      "cell_type": "code",
      "execution_count": null,
      "metadata": {
        "id": "h97VbXjPe1z_"
      },
      "outputs": [],
      "source": [
        "def top_freq(data, count):\n",
        "  fq = FreqDist([j for i in data for j in i])\n",
        "  return fq.most_common(count)"
      ]
    },
    {
      "cell_type": "code",
      "source": [
        "def generate_ngrams(words, n):\n",
        "    ngrams_result = []\n",
        "\n",
        "    for i in words:\n",
        "      ngrams_result = list(ngrams(i,n))\n",
        "\n",
        "    return ngrams_result"
      ],
      "metadata": {
        "id": "5PzItehW9kDg"
      },
      "execution_count": null,
      "outputs": []
    },
    {
      "cell_type": "code",
      "execution_count": null,
      "metadata": {
        "id": "qh8ZdokOe2uv"
      },
      "outputs": [],
      "source": [
        "def zipf(data, data_count = -1):\n",
        "  fq = FreqDist([j for i in data for j in i ])\n",
        "  df = pd.DataFrame(fq.items()).sort_values(by=[1], ascending=False)\n",
        "  if data_count != -1:\n",
        "    df = df[0:data_count]\n",
        "  index = 0\n",
        "  zipf_w = list()\n",
        "  for idx, (word, count) in df.iterrows():\n",
        "    index += 1\n",
        "    zipf_w.append([idx, word, count, idx*count])\n",
        "  ranks = [x[0] for x in rows_to_show]\n",
        "  amount = [x[2] for x in rows_to_show]\n",
        "  plt.plot(ranks, amount, linestyle='dotted')\n",
        "  plt.title('Prawo Zipfa')\n",
        "  plt.xlabel('Ranga')\n",
        "  plt.xscale('log')\n",
        "  plt.ylabel('Wystąpienia')\n",
        "  plt.yscale('log')\n",
        "  plt.show()"
      ]
    },
    {
      "cell_type": "code",
      "execution_count": null,
      "metadata": {
        "id": "n0coL1AffA5K"
      },
      "outputs": [],
      "source": [
        "def ngrams_implementing(data,ngram):\n",
        "  clean_sents = []\n",
        "  for s in data:\n",
        "    clean_sents.append(ngram[s])\n",
        "  return clean_sents"
      ]
    },
    {
      "cell_type": "code",
      "source": [
        "def bipartite_graph(lines, number_of_output):\n",
        "  words_children = {}\n",
        "\n",
        "  for words in lines:\n",
        "      for i in range(0, len(words) - 1):\n",
        "          parent, child = words[i], words[i+1]\n",
        "\n",
        "          if parent not in words_children:\n",
        "              words_children[parent] = set()\n",
        "\n",
        "          words_children[parent].add(child)\n",
        "\n",
        "  words_children = dict(sorted(words_children.items(), key=lambda x: len(x[1]), reverse=True)[0:number_of_output])\n",
        "  return words_children"
      ],
      "metadata": {
        "id": "h3qsmdVubw9U"
      },
      "execution_count": null,
      "outputs": []
    },
    {
      "cell_type": "markdown",
      "metadata": {
        "id": "nz7LBFKueL3f"
      },
      "source": [
        "# Currier's transcription"
      ]
    },
    {
      "cell_type": "code",
      "execution_count": null,
      "metadata": {
        "id": "PHS_eYzpq4qw"
      },
      "outputs": [],
      "source": [
        "url = 'https://www.ic.unicamp.br/~stolfi/voynich/mirror/reeds/docs/FSG.txt'\n",
        "downl = urllib.request.urlopen(url).read().decode('utf-8')\n",
        "sent_tokens = sent_tokenize(downl)"
      ]
    },
    {
      "cell_type": "code",
      "execution_count": null,
      "metadata": {
        "id": "USalDJkTsRIn"
      },
      "outputs": [],
      "source": [
        "data = list()\n",
        "for i in range(len(sent_tokens)):\n",
        "  tmp = (word_tokenize(sent_tokens[i]))\n",
        "  tmp_list = []\n",
        "  for j in tmp:\n",
        "    tmp_list += (j.split(','))\n",
        "  data.append(tmp_list)"
      ]
    },
    {
      "cell_type": "code",
      "execution_count": null,
      "metadata": {
        "id": "DVIU8KLTuiu-"
      },
      "outputs": [],
      "source": [
        "stpwords = list([',','#',':','.','','-','_','=', '\\'', 'Currier','\\'s'])\n",
        "dt_stp = list()\n",
        "for i in data:\n",
        "  tmp = list()\n",
        "  for w in i:\n",
        "    if w not in stpwords:\n",
        "      if (len(w) > 1):\n",
        "        tmp.append(w.replace(',', ' ').replace('-', '').replace('=', ''))\n",
        "  dt_stp.append(tmp)"
      ]
    },
    {
      "cell_type": "code",
      "execution_count": null,
      "metadata": {
        "colab": {
          "base_uri": "https://localhost:8080/"
        },
        "id": "CA-CugLcvOCu",
        "outputId": "cd1dc14e-ae64-4834-ab9a-3a0fa794b68e"
      },
      "outputs": [
        {
          "output_type": "stream",
          "name": "stdout",
          "text": [
            "+-------+---------+-------------+-------+\n",
            "| Ranga |  Słowo  | Wystąpienia | R * L |\n",
            "+-------+---------+-------------+-------+\n",
            "|   1   |   8AM   |     968     |  968  |\n",
            "|   2   |  TC8G   |     498     |  996  |\n",
            "|   3   |   OE    |     438     | 1314  |\n",
            "|   4   |  4ODAM  |     431     | 1724  |\n",
            "|   5   |  SC8G   |     426     | 2130  |\n",
            "|   6   |   AM    |     402     | 2412  |\n",
            "|   7   |   TOE   |     393     | 2751  |\n",
            "|   8   |   TCG   |     342     | 2736  |\n",
            "|   9   | 4ODCC8G |     302     | 2718  |\n",
            "|  10   |   8AR   |     297     | 2970  |\n",
            "+-------+---------+-------------+-------+\n"
          ]
        }
      ],
      "source": [
        "from tabulate import tabulate\n",
        "\n",
        "rows_to_show = []\n",
        "\n",
        "for idx, (word, count) in enumerate(top_freq(dt_stp, None), 1):\n",
        "    rows_to_show.append([idx, word, count, idx*count])\n",
        "\n",
        "print(tabulate(rows_to_show[0:10], headers=['Ranga', 'Słowo', 'Wystąpienia', 'R * L'], tablefmt='pretty'))"
      ]
    },
    {
      "cell_type": "code",
      "execution_count": null,
      "metadata": {
        "colab": {
          "base_uri": "https://localhost:8080/",
          "height": 476
        },
        "id": "cbtkK77fv-Un",
        "outputId": "6f716fb7-a646-4440-cd76-c847179542f9"
      },
      "outputs": [
        {
          "output_type": "display_data",
          "data": {
            "text/plain": [
              "<Figure size 640x480 with 1 Axes>"
            ],
            "image/png": "[encoded data removed]"
          },
          "metadata": {}
        }
      ],
      "source": [
        "import matplotlib.pyplot as plt\n",
        "\n",
        "ranks = [x[0] for x in rows_to_show]\n",
        "amount = [x[2] for x in rows_to_show]\n",
        "\n",
        "plt.plot(ranks, amount, linestyle='dotted')\n",
        "plt.title('Prawo Zipfa')\n",
        "plt.xlabel('Ranga')\n",
        "plt.xscale('log')\n",
        "plt.ylabel('Wystąpienia')\n",
        "plt.yscale('log')\n",
        "plt.show()"
      ]
    },
    {
      "cell_type": "code",
      "source": [
        "bigrams_result = generate_ngrams(dt_stp, 2)\n",
        "\n",
        "print(\"Bigramy:\")\n",
        "for bigram in bigrams_result[0:10]:\n",
        "    print(f\"('{bigram[0]}', '{bigram[1]}')\")"
      ],
      "metadata": {
        "colab": {
          "base_uri": "https://localhost:8080/"
        },
        "id": "CV7uvlt0UqWi",
        "outputId": "e9d8ea58-02f6-4fbc-e756-e8ee0f333058"
      },
      "execution_count": null,
      "outputs": [
        {
          "output_type": "stream",
          "name": "stdout",
          "text": [
            "Bigramy:\n",
            "('OESCG', '4OHAM')\n",
            "('4OHAM', 'OE')\n",
            "('OE', 'S0G')\n",
            "('S0G', '4ODCSC')\n",
            "('4ODCSC', 'ESCOD')\n",
            "('ESCOD', 'S8G')\n",
            "('S8G', '4PZCG')\n",
            "('4PZCG', 'TCHG')\n",
            "('TCHG', '8AR')\n",
            "('8AR', 'OHCCG')\n"
          ]
        }
      ]
    },
    {
      "cell_type": "code",
      "execution_count": null,
      "metadata": {
        "colab": {
          "base_uri": "https://localhost:8080/"
        },
        "id": "gn-lgObWgWgt",
        "outputId": "6f9d9a19-396f-41a5-8c1d-dcc8916109de"
      },
      "outputs": [
        {
          "output_type": "stream",
          "name": "stdout",
          "text": [
            "Trigramy:\n",
            "('OESCG', '4OHAM', 'OE')\n",
            "('4OHAM', 'OE', 'S0G')\n",
            "('OE', 'S0G', '4ODCSC')\n",
            "('S0G', '4ODCSC', 'ESCOD')\n",
            "('4ODCSC', 'ESCOD', 'S8G')\n",
            "('ESCOD', 'S8G', '4PZCG')\n",
            "('S8G', '4PZCG', 'TCHG')\n",
            "('4PZCG', 'TCHG', '8AR')\n",
            "('TCHG', '8AR', 'OHCCG')\n",
            "('8AR', 'OHCCG', 'ETCC2')\n"
          ]
        }
      ],
      "source": [
        "trigrams_result = generate_ngrams(dt_stp, 3)\n",
        "\n",
        "print(\"Trigramy:\")\n",
        "for trigram in trigrams_result[0:10]:\n",
        "    print(f\"('{trigram[0]}', '{trigram[1]}', '{trigram[2]}')\")"
      ]
    },
    {
      "cell_type": "code",
      "execution_count": null,
      "metadata": {
        "colab": {
          "base_uri": "https://localhost:8080/"
        },
        "id": "7Gt3wiZ6hENy",
        "outputId": "0d21b794-14ff-43af-d97f-a1aad99c46ad"
      },
      "outputs": [
        {
          "output_type": "stream",
          "name": "stdout",
          "text": [
            "Kwadrigramy:\n",
            "('OESCG', '4OHAM', 'OE', 'S0G')\n",
            "('4OHAM', 'OE', 'S0G', '4ODCSC')\n",
            "('OE', 'S0G', '4ODCSC', 'ESCOD')\n",
            "('S0G', '4ODCSC', 'ESCOD', 'S8G')\n",
            "('4ODCSC', 'ESCOD', 'S8G', '4PZCG')\n",
            "('ESCOD', 'S8G', '4PZCG', 'TCHG')\n",
            "('S8G', '4PZCG', 'TCHG', '8AR')\n",
            "('4PZCG', 'TCHG', '8AR', 'OHCCG')\n",
            "('TCHG', '8AR', 'OHCCG', 'ETCC2')\n",
            "('8AR', 'OHCCG', 'ETCC2', 'OE')\n"
          ]
        }
      ],
      "source": [
        "forgrams_result = generate_ngrams(dt_stp, 4)\n",
        "\n",
        "print(\"Kwadrigramy:\")\n",
        "for forgram in forgrams_result[0:10]:\n",
        "    print(f\"('{forgram[0]}', '{forgram[1]}', '{forgram[2]}', '{forgram[3]}')\")"
      ]
    },
    {
      "cell_type": "code",
      "source": [
        "words_children = bipartite_graph(dt_stp,10)\n",
        "\n",
        "for parent, childs in words_children.items():\n",
        "    print(f'{parent}:\\t{len(childs)}')"
      ],
      "metadata": {
        "colab": {
          "base_uri": "https://localhost:8080/"
        },
        "id": "ebRqqTGQZ_L4",
        "outputId": "cf8b745b-5bfc-4b28-e2c4-79ac40d7a2bf"
      },
      "execution_count": null,
      "outputs": [
        {
          "output_type": "stream",
          "name": "stdout",
          "text": [
            "8AM:\t548\n",
            "TC8G:\t282\n",
            "AM:\t279\n",
            "OE:\t250\n",
            "4ODAM:\t233\n",
            "TCG:\t226\n",
            "SC8G:\t224\n",
            "TOE:\t222\n",
            "8AR:\t208\n",
            "folio:\t204\n"
          ]
        }
      ]
    },
    {
      "cell_type": "markdown",
      "metadata": {
        "id": "Hrx_l2fhfNUd"
      },
      "source": [
        "# Estonian language"
      ]
    },
    {
      "cell_type": "code",
      "execution_count": null,
      "metadata": {
        "colab": {
          "base_uri": "https://localhost:8080/"
        },
        "id": "n5kku9a1gSFY",
        "outputId": "68f7979c-94f0-4902-9234-4d4a9744e602"
      },
      "outputs": [
        {
          "output_type": "stream",
          "name": "stdout",
          "text": [
            "Collecting tika\n",
            "  Downloading tika-2.6.0.tar.gz (27 kB)\n",
            "  Preparing metadata (setup.py) ... \u001b[?25l\u001b[?25hdone\n",
            "Requirement already satisfied: setuptools in /usr/local/lib/python3.10/dist-packages (from tika) (67.7.2)\n",
            "Requirement already satisfied: requests in /usr/local/lib/python3.10/dist-packages (from tika) (2.31.0)\n",
            "Requirement already satisfied: charset-normalizer<4,>=2 in /usr/local/lib/python3.10/dist-packages (from requests->tika) (3.3.2)\n",
            "Requirement already satisfied: idna<4,>=2.5 in /usr/local/lib/python3.10/dist-packages (from requests->tika) (3.6)\n",
            "Requirement already satisfied: urllib3<3,>=1.21.1 in /usr/local/lib/python3.10/dist-packages (from requests->tika) (2.0.7)\n",
            "Requirement already satisfied: certifi>=2017.4.17 in /usr/local/lib/python3.10/dist-packages (from requests->tika) (2023.11.17)\n",
            "Building wheels for collected packages: tika\n",
            "  Building wheel for tika (setup.py) ... \u001b[?25l\u001b[?25hdone\n",
            "  Created wheel for tika: filename=tika-2.6.0-py3-none-any.whl size=32622 sha256=fcb3d61c7c1cc7c5263cc4726a4c4080e868a507d60030687cd8353a29e4f71e\n",
            "  Stored in directory: /root/.cache/pip/wheels/5f/71/c7/b757709531121b1700cffda5b6b0d4aad095fb507ec84316d0\n",
            "Successfully built tika\n",
            "Installing collected packages: tika\n",
            "Successfully installed tika-2.6.0\n"
          ]
        }
      ],
      "source": [
        "!pip install tika"
      ]
    },
    {
      "cell_type": "code",
      "execution_count": null,
      "metadata": {
        "id": "grdFvWNSfP4d"
      },
      "outputs": [],
      "source": [
        "from tika import parser\n",
        "\n",
        "def getting_data(url):\n",
        "  raw = parser.from_file(url)\n",
        "  return raw['content']"
      ]
    },
    {
      "cell_type": "code",
      "execution_count": null,
      "metadata": {
        "colab": {
          "base_uri": "https://localhost:8080/"
        },
        "id": "alSfqHiBgWdd",
        "outputId": "9f60be89-9071-4571-c7bb-d6d4fc3b3a4f"
      },
      "outputs": [
        {
          "output_type": "stream",
          "name": "stderr",
          "text": [
            "2023-12-13 16:21:41,983 [MainThread  ] [INFO ]  Retrieving https://ojs.utlib.ee/index.php/EAA/article/download/1392/1331 to /tmp/index.php-eaa-article-download-1392-1331.\n",
            "INFO:tika.tika:Retrieving https://ojs.utlib.ee/index.php/EAA/article/download/1392/1331 to /tmp/index.php-eaa-article-download-1392-1331.\n",
            "2023-12-13 16:21:45,496 [MainThread  ] [INFO ]  Retrieving http://search.maven.org/remotecontent?filepath=org/apache/tika/tika-server-standard/2.6.0/tika-server-standard-2.6.0.jar to /tmp/tika-server.jar.\n",
            "INFO:tika.tika:Retrieving http://search.maven.org/remotecontent?filepath=org/apache/tika/tika-server-standard/2.6.0/tika-server-standard-2.6.0.jar to /tmp/tika-server.jar.\n",
            "2023-12-13 16:21:49,028 [MainThread  ] [INFO ]  Retrieving http://search.maven.org/remotecontent?filepath=org/apache/tika/tika-server-standard/2.6.0/tika-server-standard-2.6.0.jar.md5 to /tmp/tika-server.jar.md5.\n",
            "INFO:tika.tika:Retrieving http://search.maven.org/remotecontent?filepath=org/apache/tika/tika-server-standard/2.6.0/tika-server-standard-2.6.0.jar.md5 to /tmp/tika-server.jar.md5.\n",
            "2023-12-13 16:21:50,524 [MainThread  ] [WARNI]  Failed to see startup log message; retrying...\n",
            "WARNING:tika.tika:Failed to see startup log message; retrying...\n",
            "2023-12-13 16:21:55,536 [MainThread  ] [WARNI]  Failed to see startup log message; retrying...\n",
            "WARNING:tika.tika:Failed to see startup log message; retrying...\n",
            "2023-12-13 16:22:02,936 [MainThread  ] [INFO ]  Retrieving https://ojs.utlib.ee/index.php/EAA/article/download/1033/1003 to /tmp/index.php-eaa-article-download-1033-1003.\n",
            "INFO:tika.tika:Retrieving https://ojs.utlib.ee/index.php/EAA/article/download/1033/1003 to /tmp/index.php-eaa-article-download-1033-1003.\n",
            "2023-12-13 16:22:05,508 [MainThread  ] [INFO ]  Retrieving https://pohiseadus.riigioigus.ee/system/files/inline-files/prof_robert_alexy._pohioigused_eesti_pohiseaduses.pdf to /tmp/system-files-inline-files-prof_robert_alexy._pohioigused_eesti_pohiseaduses.pdf.\n",
            "INFO:tika.tika:Retrieving https://pohiseadus.riigioigus.ee/system/files/inline-files/prof_robert_alexy._pohioigused_eesti_pohiseaduses.pdf to /tmp/system-files-inline-files-prof_robert_alexy._pohioigused_eesti_pohiseaduses.pdf.\n",
            "2023-12-13 16:22:13,545 [MainThread  ] [INFO ]  Retrieving https://core.ac.uk/download/pdf/14492679.pdf to /tmp/download-pdf-14492679.pdf.\n",
            "INFO:tika.tika:Retrieving https://core.ac.uk/download/pdf/14492679.pdf to /tmp/download-pdf-14492679.pdf.\n"
          ]
        }
      ],
      "source": [
        "et_data_pdf = getting_data('https://ojs.utlib.ee/index.php/EAA/article/download/1392/1331')\n",
        "et_data_pdf += getting_data('https://ojs.utlib.ee/index.php/EAA/article/download/1033/1003')\n",
        "et_data_pdf += getting_data('https://pohiseadus.riigioigus.ee/system/files/inline-files/prof_robert_alexy._pohioigused_eesti_pohiseaduses.pdf')\n",
        "et_data_pdf += getting_data('https://core.ac.uk/download/pdf/14492679.pdf')"
      ]
    },
    {
      "cell_type": "code",
      "execution_count": null,
      "metadata": {
        "colab": {
          "base_uri": "https://localhost:8080/"
        },
        "id": "urqYZuEbg5vH",
        "outputId": "53c2ee30-ddc3-4b3d-e2db-60849dd436b6"
      },
      "outputs": [
        {
          "output_type": "stream",
          "name": "stdout",
          "text": [
            "6068\n"
          ]
        }
      ],
      "source": [
        "et_tokens_sent = sent_tokenize(et_data_pdf)\n",
        "print(len(et_tokens_sent))"
      ]
    },
    {
      "cell_type": "code",
      "execution_count": null,
      "metadata": {
        "id": "oZ02QNG7hINq"
      },
      "outputs": [],
      "source": [
        "et_data_tokens = list()\n",
        "for i in range(len(et_tokens_sent)):\n",
        "  et_data_tokens.append(word_tokenize(et_tokens_sent[i]))"
      ]
    },
    {
      "cell_type": "code",
      "execution_count": null,
      "metadata": {
        "colab": {
          "base_uri": "https://localhost:8080/"
        },
        "id": "yrxKw8r1hzVQ",
        "outputId": "9ab218c0-9c39-447e-ff93-21808d651ab9"
      },
      "outputs": [
        {
          "output_type": "stream",
          "name": "stderr",
          "text": [
            "2023-12-13 18:22:35,867 [MainThread  ] [INFO ]  Retrieving https://datadoi.ee/bitstream/handle/33/78/estonian-stopwords.txt?sequence=1&isAllowed=y to /tmp/bitstream-handle-33-78-estonian-stopwords.txt.\n",
            "INFO:tika.tika:Retrieving https://datadoi.ee/bitstream/handle/33/78/estonian-stopwords.txt?sequence=1&isAllowed=y to /tmp/bitstream-handle-33-78-estonian-stopwords.txt.\n"
          ]
        }
      ],
      "source": [
        "stopwords_et = getting_data('https://datadoi.ee/bitstream/handle/33/78/estonian-stopwords.txt?sequence=1&isAllowed=y')\n",
        "stopwords_et = stopwords_et.split('\\n')\n",
        "stopwords_et += ['–','v.','siiski','näiteks','seega','ole','kohta','nagu','ning','vaid','ainult','võib','mitte','lg','või','ka','aga','ei','et','ja','jah','kas','kui','kõik','ma','me','mida','midagi','mind','minu','mis','mu','mul','mulle','nad','nii','oled','olen','oli','oma','on','pole','sa','seda','see','selle','siin','siis','ta','te','ära',]"
      ]
    },
    {
      "cell_type": "code",
      "execution_count": null,
      "metadata": {
        "id": "OOTnfZE0hQ_I"
      },
      "outputs": [],
      "source": [
        "stpwords = list(string.punctuation)\n",
        "stpwords += (['','\"','-','”','“','$','§','...','«','iii','ii','v','ps','—','–'])\n",
        "\n",
        "et_tokens = list()\n",
        "for i in et_data_tokens:\n",
        "  tmp = list()\n",
        "  for w in i:\n",
        "    wor = w.lower()\n",
        "    if (wor not in stpwords) and (wor not in stopwords_et) and (not any(char.isdigit() for char in wor)):\n",
        "      tmp.append(wor)\n",
        "  et_tokens.append(tmp)"
      ]
    },
    {
      "cell_type": "code",
      "execution_count": null,
      "metadata": {
        "colab": {
          "base_uri": "https://localhost:8080/"
        },
        "id": "8k7Ng8AZjCHw",
        "outputId": "d7b5703e-dd3e-4532-a2bf-bbf34cd2076b"
      },
      "outputs": [
        {
          "output_type": "stream",
          "name": "stdout",
          "text": [
            "+-------+-------------+-------------+-------+\n",
            "| Ranga |    Słowo    | Wystąpienia | R * L |\n",
            "+-------+-------------+-------------+-------+\n",
            "|   1   |    eesti    |     437     |  437  |\n",
            "|   2   | põhiõiguste |     302     |  604  |\n",
            "|   3   |    lause    |     287     |  861  |\n",
            "|   4   |     vrd     |     280     | 1120  |\n",
            "|   5   |     lk      |     208     | 1040  |\n",
            "|   6   |   liitub    |     198     | 1188  |\n",
            "|   7   |  tähendus   |     167     | 1169  |\n",
            "|   8   |  tuletisi   |     167     | 1336  |\n",
            "|   9   | põhiseaduse |     164     | 1476  |\n",
            "|  10   |   seaduse   |     135     | 1350  |\n",
            "+-------+-------------+-------------+-------+\n"
          ]
        }
      ],
      "source": [
        "from tabulate import tabulate\n",
        "\n",
        "rows_to_show = []\n",
        "\n",
        "for idx, (word, count) in enumerate(top_freq(et_tokens, None), 1):\n",
        "    rows_to_show.append([idx, word, count, idx*count])\n",
        "\n",
        "print(tabulate(rows_to_show[0:10], headers=['Ranga', 'Słowo', 'Wystąpienia', 'R * L'], tablefmt='pretty'))"
      ]
    },
    {
      "cell_type": "code",
      "source": [
        "import matplotlib.pyplot as plt\n",
        "\n",
        "ranks = [x[0] for x in rows_to_show]\n",
        "amount = [x[2] for x in rows_to_show]\n",
        "\n",
        "plt.plot(ranks, amount, linestyle='dotted')\n",
        "plt.title('Prawo Zipfa')\n",
        "plt.xlabel('Ranga')\n",
        "plt.xscale('log')\n",
        "plt.ylabel('Wystąpienia')\n",
        "plt.yscale('log')\n",
        "plt.show()"
      ],
      "metadata": {
        "colab": {
          "base_uri": "https://localhost:8080/",
          "height": 476
        },
        "id": "rNo4CayB3St9",
        "outputId": "f7dee812-19e1-4e06-f9d5-f51354a3231f"
      },
      "execution_count": null,
      "outputs": [
        {
          "output_type": "display_data",
          "data": {
            "text/plain": [
              "<Figure size 640x480 with 1 Axes>"
            ],
            "image/png": "[encoded data removed]"
          },
          "metadata": {}
        }
      ]
    },
    {
      "cell_type": "code",
      "execution_count": null,
      "metadata": {
        "colab": {
          "base_uri": "https://localhost:8080/"
        },
        "id": "ScaKe6-zjhB_",
        "outputId": "5269fd48-e7e6-4dfd-ab32-7e782290484c"
      },
      "outputs": [
        {
          "output_type": "stream",
          "name": "stdout",
          "text": [
            "Bigramy:\n",
            "('suhtetuletus', 'kokkuvõte')\n",
            "('kokkuvõte', 'kirjandus')\n"
          ]
        }
      ],
      "source": [
        "bigrams_result = generate_ngrams(et_tokens, 2)\n",
        "\n",
        "print(\"Bigramy:\")\n",
        "for bigram in bigrams_result[0:10]:\n",
        "    print(f\"('{bigram[0]}', '{bigram[1]}')\")"
      ]
    },
    {
      "cell_type": "code",
      "execution_count": null,
      "metadata": {
        "colab": {
          "base_uri": "https://localhost:8080/"
        },
        "id": "FtEFr8Lkt7jB",
        "outputId": "d639f04f-8da0-4d66-eb3b-9512bb6d0dbb"
      },
      "outputs": [
        {
          "output_type": "stream",
          "name": "stdout",
          "text": [
            "Trigramy:\n",
            "('suhtetuletus', 'kokkuvõte', 'kirjandus')\n"
          ]
        }
      ],
      "source": [
        "trigrams_result = generate_ngrams(et_tokens, 3)\n",
        "\n",
        "print(\"Trigramy:\")\n",
        "for trigram in trigrams_result[0:10]:\n",
        "    print(f\"('{trigram[0]}', '{trigram[1]}', '{trigram[2]}')\")"
      ]
    },
    {
      "cell_type": "code",
      "execution_count": null,
      "metadata": {
        "colab": {
          "base_uri": "https://localhost:8080/"
        },
        "id": "0CwC-rp7mg1u",
        "outputId": "288bdb7b-fc8b-4f52-a30a-576221c92bc9"
      },
      "outputs": [
        {
          "output_type": "stream",
          "name": "stdout",
          "text": [
            "Forgramy:\n"
          ]
        }
      ],
      "source": [
        "forgrams_result = generate_ngrams(et_tokens, 4)\n",
        "\n",
        "print(\"Forgramy:\")\n",
        "for forgram in forgrams_result[0:10]:\n",
        "    print(f\"('{forgram[0]}', '{forgram[1]}', '{forgram[2]}', '{forgram[3]}')\")"
      ]
    },
    {
      "cell_type": "code",
      "source": [
        "words_children = bipartite_graph(et_tokens,10)\n",
        "\n",
        "for parent, childs in words_children.items():\n",
        "    print(f'{parent}:\\t{len(childs)}')"
      ],
      "metadata": {
        "colab": {
          "base_uri": "https://localhost:8080/"
        },
        "id": "MfE9ZYapezaQ",
        "outputId": "427fc07a-dd9e-470d-cfa8-80d940464f58"
      },
      "execution_count": null,
      "outputs": [
        {
          "output_type": "stream",
          "name": "stdout",
          "text": [
            "lause:\t172\n",
            "põhiõiguste:\t168\n",
            "eesti:\t136\n",
            "tähendus:\t120\n",
            "moodustatud:\t113\n",
            "põhiseaduse:\t112\n",
            "tuletisi:\t111\n",
            "tegemist:\t98\n",
            "tuletised:\t94\n",
            "kaitse:\t91\n"
          ]
        }
      ]
    }
  ],
  "metadata": {
    "colab": {
      "toc_visible": true,
      "provenance": [],
      "authorship_tag": "ABX9TyMHzX75EQ3OpzeOyC7ZXDN9",
      "include_colab_link": true
    },
    "kernelspec": {
      "display_name": "Python 3",
      "name": "python3"
    },
    "language_info": {
      "name": "python"
    }
  },
  "nbformat": 4,
  "nbformat_minor": 0
}